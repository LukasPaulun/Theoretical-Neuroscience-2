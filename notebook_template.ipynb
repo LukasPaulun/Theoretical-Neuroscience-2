{
  "nbformat": 4,
  "nbformat_minor": 0,
  "metadata": {
    "colab": {
      "name": "notebook_template.ipynb",
      "provenance": [],
      "collapsed_sections": [],
      "mount_file_id": "1IFKOHGofXdPHtWX_cJxaV5_WB_HW0zqa",
      "authorship_tag": "ABX9TyOxEqwC517vgHrHhdAd+6kY",
      "include_colab_link": true
    },
    "kernelspec": {
      "name": "python3",
      "display_name": "Python 3"
    }
  },
  "cells": [
    {
      "cell_type": "markdown",
      "metadata": {
        "id": "view-in-github",
        "colab_type": "text"
      },
      "source": [
        "<a href=\"https://colab.research.google.com/github/LukasPaulun/Theoretical-Neuroscience-2/blob/master/notebook_template.ipynb\" target=\"_parent\"><img src=\"https://colab.research.google.com/assets/colab-badge.svg\" alt=\"Open In Colab\"/></a>"
      ]
    },
    {
      "cell_type": "markdown",
      "metadata": {
        "id": "Va0ZoIsWl3TH",
        "colab_type": "text"
      },
      "source": [
        "# **Change working directory to work in github-repo**"
      ]
    },
    {
      "cell_type": "code",
      "metadata": {
        "id": "YcyVJEzQkVPl",
        "colab_type": "code",
        "colab": {
          "base_uri": "https://localhost:8080/",
          "height": 70
        },
        "outputId": "e748bc3b-8bb1-422f-ea94-e8c4e6d883b4"
      },
      "source": [
        "root = \"drive/My Drive/Colab - Theoretical Neuroscience 2/\"\n",
        "repo_name = \"Theoretical-Neuroscience-2\"\n",
        "\n",
        "working_dir = root + repo_name\n",
        "\n",
        "%cd {working_dir}"
      ],
      "execution_count": 5,
      "outputs": [
        {
          "output_type": "stream",
          "text": [
            "[Errno 2] No such file or directory: 'drive/My Drive/Colab - Theoretical Neuroscience 2/Theoretical-Neuroscience-2'\n",
            "/content/drive/My Drive/Colab - Theoretical Neuroscience 2/Theoretical-Neuroscience-2\n",
            "Already up to date.\n"
          ],
          "name": "stdout"
        }
      ]
    },
    {
      "cell_type": "markdown",
      "metadata": {
        "id": "ApwFyT9ll91T",
        "colab_type": "text"
      },
      "source": [
        "# **Pull latest changes from github and reload the neurons.py module**"
      ]
    },
    {
      "cell_type": "code",
      "metadata": {
        "id": "vKsvcSCzk_M8",
        "colab_type": "code",
        "colab": {
          "base_uri": "https://localhost:8080/",
          "height": 52
        },
        "outputId": "84ce840b-2d16-47c0-82f0-db360ed9e368"
      },
      "source": [
        "!git pull\n",
        "\n",
        "import importlib\n",
        "import numpy as np\n",
        "import matplotlib.pyplot as plt\n",
        "\n",
        "import neurons\n",
        "importlib.reload(neurons)"
      ],
      "execution_count": 14,
      "outputs": [
        {
          "output_type": "stream",
          "text": [
            "Already up to date.\n"
          ],
          "name": "stdout"
        },
        {
          "output_type": "execute_result",
          "data": {
            "text/plain": [
              "<module 'neurons' from '/content/drive/My Drive/Colab - Theoretical Neuroscience 2/Theoretical-Neuroscience-2/neurons.py'>"
            ]
          },
          "metadata": {
            "tags": []
          },
          "execution_count": 14
        }
      ]
    },
    {
      "cell_type": "markdown",
      "metadata": {
        "id": "vvvWI0f7lsUR",
        "colab_type": "text"
      },
      "source": [
        "# **Actual notebook starts here**"
      ]
    },
    {
      "cell_type": "code",
      "metadata": {
        "id": "XN7IaMyikwXf",
        "colab_type": "code",
        "colab": {}
      },
      "source": [
        ""
      ],
      "execution_count": 0,
      "outputs": []
    }
  ]
}