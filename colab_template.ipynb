{
  "nbformat": 4,
  "nbformat_minor": 0,
  "metadata": {
    "colab": {
      "name": "notebook_template.ipynb",
      "provenance": [],
      "collapsed_sections": [],
      "include_colab_link": true
    },
    "kernelspec": {
      "name": "python3",
      "display_name": "Python 3"
    }
  },
  "cells": [
    {
      "cell_type": "markdown",
      "metadata": {
        "id": "view-in-github",
        "colab_type": "text"
      },
      "source": [
        "<a href=\"https://colab.research.google.com/github/LukasPaulun/Theoretical-Neuroscience-2/blob/master/notebook_template.ipynb\" target=\"_parent\"><img src=\"https://colab.research.google.com/assets/colab-badge.svg\" alt=\"Open In Colab\"/></a>"
      ]
    },
    {
      "cell_type": "markdown",
      "metadata": {
        "id": "Va0ZoIsWl3TH",
        "colab_type": "text"
      },
      "source": [
        "# **Change working directory to work in github-repo**\n",
        "\n",
        "First, google drive has to be mounted. Do this manually or with the first two optional lines of code."
      ]
    },
    {
      "cell_type": "code",
      "metadata": {
        "id": "YcyVJEzQkVPl",
        "colab_type": "code",
        "colab": {}
      },
      "source": [
        "# from google.colab import drive\n",
        "# drive.mount('/gdrive')\n",
        "\n",
        "root = \"drive/My Drive/Colab - Theoretical Neuroscience 2/\"\n",
        "repo_name = \"Theoretical-Neuroscience-2\"\n",
        "\n",
        "working_dir = root + repo_name\n",
        "\n",
        "%cd {working_dir}"
      ],
      "execution_count": 0,
      "outputs": []
    },
    {
      "cell_type": "markdown",
      "metadata": {
        "id": "ApwFyT9ll91T",
        "colab_type": "text"
      },
      "source": [
        "# **Pull latest changes from github and reload the neurons.py module**"
      ]
    },
    {
      "cell_type": "code",
      "metadata": {
        "id": "vKsvcSCzk_M8",
        "colab_type": "code",
        "colab": {}
      },
      "source": [
        "!git pull\n",
        "\n",
        "import importlib\n",
        "import numpy as np\n",
        "import matplotlib.pyplot as plt\n",
        "\n",
        "import neurons\n",
        "importlib.reload(neurons)"
      ],
      "execution_count": 0,
      "outputs": []
    },
    {
      "cell_type": "markdown",
      "metadata": {
        "id": "vvvWI0f7lsUR",
        "colab_type": "text"
      },
      "source": [
        "# **Actual notebook starts here**"
      ]
    },
    {
      "cell_type": "code",
      "metadata": {
        "id": "XN7IaMyikwXf",
        "colab_type": "code",
        "colab": {}
      },
      "source": [
        ""
      ],
      "execution_count": 0,
      "outputs": []
    }
  ]
}