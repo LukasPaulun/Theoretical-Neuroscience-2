{
  "nbformat": 4,
  "nbformat_minor": 0,
  "metadata": {
    "colab": {
      "name": "test_notebook.ipynb",
      "provenance": [],
      "authorship_tag": "ABX9TyPOKNmwWKsMtciRXOz0GfM2",
      "include_colab_link": true
    },
    "kernelspec": {
      "name": "python3",
      "display_name": "Python 3"
    }
  },
  "cells": [
    {
      "cell_type": "markdown",
      "metadata": {
        "id": "view-in-github",
        "colab_type": "text"
      },
      "source": [
        "<a href=\"https://colab.research.google.com/github/LukasPaulun/TheoreticalNeuroscience2/blob/master/test_notebook.ipynb\" target=\"_parent\"><img src=\"https://colab.research.google.com/assets/colab-badge.svg\" alt=\"Open In Colab\"/></a>"
      ]
    },
    {
      "cell_type": "markdown",
      "metadata": {
        "id": "ht5SudRDBVy1",
        "colab_type": "text"
      },
      "source": [
        "Add a line of text"
      ]
    },
    {
      "cell_type": "code",
      "metadata": {
        "id": "r4RrUZlUBZ-S",
        "colab_type": "code",
        "colab": {
          "base_uri": "https://localhost:8080/",
          "height": 35
        },
        "outputId": "008ed5bc-1450-46b5-cb5f-20e25e74312c"
      },
      "source": [
        "print('Add a line of code')"
      ],
      "execution_count": 2,
      "outputs": [
        {
          "output_type": "stream",
          "text": [
            "Add a line of code\n"
          ],
          "name": "stdout"
        }
      ]
    }
  ]
}